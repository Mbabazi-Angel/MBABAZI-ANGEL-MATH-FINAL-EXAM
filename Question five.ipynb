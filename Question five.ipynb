{
 "cells": [
  {
   "cell_type": "code",
   "execution_count": null,
   "metadata": {},
   "outputs": [],
   "source": [
    "#python program to solve three linear equations using matrices"
   ]
  },
  {
   "cell_type": "code",
   "execution_count": 14,
   "metadata": {},
   "outputs": [],
   "source": [
    "import numpy as np "
   ]
  },
  {
   "cell_type": "code",
   "execution_count": 17,
   "metadata": {},
   "outputs": [],
   "source": [
    "#Call a function\n",
    "def solve_linear_equations(coefficient, constant):\n",
    "    #Convert the coefficient and constant to numpy arrays\n",
    "    A = np.array(coefficient)\n",
    "    B = np.array(constant)\n",
    "\n",
    "    #Use the numpy linear algebra solver to get result\n",
    "    try:\n",
    "        result = np.linalg.solve(A, B)\n",
    "        return result\n",
    "    except np.linalg.LinAlgError:\n",
    "        #incase the matrix is singular \n",
    "        print(\"The linear equation has no solution since it is singular\")\n",
    "        return None\n"
   ]
  },
  {
   "cell_type": "code",
   "execution_count": 21,
   "metadata": {},
   "outputs": [
    {
     "name": "stdout",
     "output_type": "stream",
     "text": [
      "The result is x = 1.76, y = -0.66, z = -3.45\n"
     ]
    }
   ],
   "source": [
    "#Examples of three linear equations:\n",
    "# 2x + 3y - z = 5\n",
    "# 4x - 2y + 3z = -2\n",
    "# x + y - 2z = 8\n",
    "\n",
    "coefficients = [\n",
    "    [2, 3, -1],\n",
    "    [4, -2, 3],\n",
    "    [1, 1, -2]\n",
    "]\n",
    "\n",
    "constants = [5, -2, 8]\n",
    "\n",
    "result = solve_linear_equations(coefficients, constants)\n",
    "\n",
    "if result is not None:\n",
    "    print(\"The result is x = {:.2f}, y = {:.2f}, z = {:.2f}\".format(*result))"
   ]
  }
 ],
 "metadata": {
  "kernelspec": {
   "display_name": "Python 3",
   "language": "python",
   "name": "python3"
  },
  "language_info": {
   "codemirror_mode": {
    "name": "ipython",
    "version": 3
   },
   "file_extension": ".py",
   "mimetype": "text/x-python",
   "name": "python",
   "nbconvert_exporter": "python",
   "pygments_lexer": "ipython3",
   "version": "3.11.6"
  }
 },
 "nbformat": 4,
 "nbformat_minor": 2
}
