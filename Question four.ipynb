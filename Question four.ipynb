{
 "cells": [
  {
   "cell_type": "code",
   "execution_count": 2,
   "metadata": {},
   "outputs": [],
   "source": [
    "#import numpy library\n",
    "import numpy as np"
   ]
  },
  {
   "cell_type": "code",
   "execution_count": 3,
   "metadata": {},
   "outputs": [
    {
     "name": "stdout",
     "output_type": "stream",
     "text": [
      "[[1.  0.2 0.5]\n",
      " [0.2 1.  0.8]\n",
      " [0.5 0.8 1. ]]\n"
     ]
    }
   ],
   "source": [
    "#construct matrix\n",
    "matrix = np.array([[1,0.2,0.5],[0.2,1,0.8,],[0.5,0.8,1]])\n",
    "print(matrix)"
   ]
  },
  {
   "cell_type": "code",
   "execution_count": 4,
   "metadata": {},
   "outputs": [
    {
     "name": "stdout",
     "output_type": "stream",
     "text": [
      "Matrix inversion:\n",
      "[[ 1.56521739  0.86956522 -1.47826087]\n",
      " [ 0.86956522  3.26086957 -3.04347826]\n",
      " [-1.47826087 -3.04347826  4.17391304]]\n"
     ]
    }
   ],
   "source": [
    "#a)Compute inversion of the matrix\n",
    "matrix_inversion = np.linalg.inv(matrix)\n",
    "print(\"Matrix inversion:\")\n",
    "print(matrix_inversion)"
   ]
  },
  {
   "cell_type": "code",
   "execution_count": 5,
   "metadata": {},
   "outputs": [
    {
     "name": "stdout",
     "output_type": "stream",
     "text": [
      "Determinant:\n",
      "0.2299999999999999\n"
     ]
    }
   ],
   "source": [
    "#b)compute determinant of matrix\n",
    "determinant = np.linalg.det(matrix)\n",
    "print(\"Determinant:\")\n",
    "print(determinant)"
   ]
  },
  {
   "cell_type": "code",
   "execution_count": 6,
   "metadata": {},
   "outputs": [],
   "source": [
    "import scipy"
   ]
  },
  {
   "cell_type": "code",
   "execution_count": 7,
   "metadata": {},
   "outputs": [
    {
     "name": "stdout",
     "output_type": "stream",
     "text": [
      "matrix:\n",
      "[[1.  0.2 0.5]\n",
      " [0.2 1.  0.8]\n",
      " [0.5 0.8 1. ]]\n",
      "LU matrix\n",
      "[[1. 0. 0.]\n",
      " [0. 1. 0.]\n",
      " [0. 0. 1.]]\n",
      "[[1.         0.         0.        ]\n",
      " [0.2        1.         0.        ]\n",
      " [0.5        0.72916667 1.        ]]\n",
      "[[1.         0.2        0.5       ]\n",
      " [0.         0.96       0.7       ]\n",
      " [0.         0.         0.23958333]]\n",
      "new_matrix:\n",
      "[[1.  0.2 0.5]\n",
      " [0.2 1.  0.8]\n",
      " [0.5 0.8 1. ]]\n"
     ]
    }
   ],
   "source": [
    "#c)Decompose the matrix\n",
    "#Using LU decomposition\n",
    "from numpy import array \n",
    "from scipy.linalg import lu \n",
    "\n",
    "#define the square matrix\n",
    "matrix = array([[1,0.2,0.5],[0.2,1,0.8],[0.5,0.8,1]])\n",
    "print(\"matrix:\")\n",
    "print(matrix)\n",
    "\n",
    "#LU decomposition\n",
    "P,L,U = lu(matrix)\n",
    "print(\"LU matrix\")\n",
    "print(P)\n",
    "print(L)\n",
    "print(U)\n",
    "\n",
    "#then reconstruct the matrix\n",
    "new_matrix = P.dot(L).dot(U)\n",
    "print(\"new_matrix:\")\n",
    "print(new_matrix)"
   ]
  },
  {
   "cell_type": "code",
   "execution_count": 17,
   "metadata": {},
   "outputs": [
    {
     "name": "stdout",
     "output_type": "stream",
     "text": [
      "Matrix:\n",
      "[[1.  0.2 0.5]\n",
      " [0.2 1.  0.8]\n",
      " [0.5 0.8 1. ]]\n",
      "The Transformed matrix is:\n",
      "[[1.29 0.8  1.16]\n",
      " [0.8  1.68 1.7 ]\n",
      " [1.16 1.7  1.89]]\n"
     ]
    }
   ],
   "source": [
    "#d)Transform the matrix\n",
    "#transformation defined as matrix multiplication\n",
    "\n",
    "#define the function\n",
    "#using, L: R^3 TO R^3 which can be defined as L(X) = AX\n",
    "def T(matrix):\n",
    "    A = np.array([[1,0.2,0.5],[0.2,1,0.8],[0.5,0.8,1]])\n",
    "    Transformed_matrix = A @ matrix\n",
    "    return Transformed_matrix \n",
    "\n",
    "matrix = np.array([[1,0.2,0.5],[0.2,1,0.8],[0.5,0.8,1]])\n",
    "Transformed_matrix = T(matrix)\n",
    "\n",
    "print(\"Matrix:\")\n",
    "print(matrix)\n",
    "print(\"The Transformed matrix is:\")\n",
    "print(Transformed_matrix)"
   ]
  }
 ],
 "metadata": {
  "kernelspec": {
   "display_name": "Python 3",
   "language": "python",
   "name": "python3"
  },
  "language_info": {
   "codemirror_mode": {
    "name": "ipython",
    "version": 3
   },
   "file_extension": ".py",
   "mimetype": "text/x-python",
   "name": "python",
   "nbconvert_exporter": "python",
   "pygments_lexer": "ipython3",
   "version": "3.11.6"
  }
 },
 "nbformat": 4,
 "nbformat_minor": 2
}
